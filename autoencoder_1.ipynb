{
 "cells": [
  {
   "cell_type": "code",
   "execution_count": null,
   "id": "f95bdf4d",
   "metadata": {},
   "outputs": [],
   "source": [
    "import argparse\n",
    "import h5py\n",
    "from sklearn.model_selection import train_test_split\n",
    "import numpy as np"
   ]
  },
  {
   "cell_type": "code",
   "execution_count": null,
   "id": "3686a7f6",
   "metadata": {},
   "outputs": [],
   "source": [
    "file_dict = {\n",
    "    'Background': '/tmp/all_data/background_for_training.h5',\n",
    "    'Ato4l': '/tmp/all_data/Ato4l_lepFilter_13TeV_filtered.h5',\n",
    "    'hChToTauNu': '/tmp/all_data/hChToTauNu_13TeV_PU20_filtered.h5',\n",
    "    'hToTauTau' : '/tmp/all_data/hToTauTau_13TeV_PU20_filtered.h5', \n",
    "    'leptoquark': '/tmp/all_data/leptoquark_LOWMASS_lepFilter_13TeV_filtered.h5',\n",
    "}\n",
    "\n",
    "background_file = \"/tmp/all_data/background_for_training.h5\" # background data file\n",
    "\n",
    "signal_files = [ # signal data files\n",
    "    \n",
    "    '/tmp/all_data/Ato4l_lepFilter_13TeV_filtered.h5',\n",
    "    '/tmp/all_data/hChToTauNu_13TeV_PU20_filtered.h5',\n",
    "    '/tmp/all_data/hToTauTau_13TeV_PU20_filtered.h5', \n",
    "    '/tmp/all_data/leptoquark_LOWMASS_lepFilter_13TeV_filtered.h5',\n",
    "]\n",
    "\n",
    "output_names = [ # names for output files\n",
    "    \"Ato4l_lepFilter\",\n",
    "    \"hChToTauNu\",\n",
    "    \"hToTauTau\",\n",
    "    \"leptoquark_LOWMASS\"\n",
    "]"
   ]
  },
  {
   "cell_type": "code",
   "execution_count": null,
   "id": "09d4ab31",
   "metadata": {},
   "outputs": [],
   "source": [
    "def create_datasets_convolutional(bkg_file, output_bkg_name, signals_files, output_signal_names, events=None, test_size=0.2, val_size=0.2, input_shape=57):\n",
    "    \n",
    "    # read BACKGROUND data\n",
    "    with h5py.File(bkg_file, 'r') as file:\n",
    "        full_data = file['Particles'][:,:,:-1]\n",
    "        np.random.shuffle(full_data)\n",
    "        if events: full_data = full_data[:events,:,:]\n",
    "    \n",
    "    # define training, test and validation datasets\n",
    "    X_train, X_test = train_test_split(full_data, test_size=test_size, shuffle=True)\n",
    "    X_train, X_val = train_test_split(X_train, test_size=val_size)\n",
    "\n",
    "    del full_data\n",
    "    \n",
    "    with h5py.File(output_bkg_name + '_dataset.h5', 'w') as h5f:\n",
    "        h5f.create_dataset('X_train', data = X_train)\n",
    "        h5f.create_dataset('X_test', data = X_test)\n",
    "        h5f.create_dataset('X_val', data = X_val)\n",
    "    \n",
    "    if signals_files:\n",
    "        # read SIGNAL data\n",
    "        for i, signal_file in enumerate(signals_files):\n",
    "            f = h5py.File(signal_file,'r')\n",
    "            signal_data = f['Particles'][:,:,:-1]\n",
    "            with h5py.File(output_signal_names[i] + '_dataset.h5', 'w') as h5f2:\n",
    "                h5f2.create_dataset('Data', data = signal_data)\n",
    "        \n",
    "    return"
   ]
  },
  {
   "cell_type": "code",
   "execution_count": null,
   "id": "54d6f62e",
   "metadata": {},
   "outputs": [],
   "source": [
    "create_datasets_dense(background_file, )"
   ]
  }
 ],
 "metadata": {
  "language_info": {
   "name": "python"
  }
 },
 "nbformat": 4,
 "nbformat_minor": 5
}
